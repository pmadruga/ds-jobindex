{
 "cells": [
  {
   "cell_type": "markdown",
   "metadata": {},
   "source": [
    "# Recommender"
   ]
  },
  {
   "cell_type": "code",
   "execution_count": 162,
   "metadata": {},
   "outputs": [],
   "source": [
    "import os\n",
    "import pandas as pd\n",
    "from nltk.corpus import stopwords\n",
    "from nltk.stem.snowball import DanishStemmer\n",
    "from textblob import TextBlob\n",
    "import lemmy\n",
    "from sklearn.metrics import pairwise_kernels\n",
    "from sklearn.feature_extraction.text import TfidfVectorizer\n",
    "import numpy as np\n",
    "from sentence_transformers import SentenceTransformer, util\n",
    "import tensorflow as tf\n",
    "\n",
    "embedder = SentenceTransformer('distilbert-multilingual-nli-stsb-quora-ranking')"
   ]
  },
  {
   "cell_type": "code",
   "execution_count": 43,
   "metadata": {},
   "outputs": [],
   "source": [
    "dataset_name = 'jobindex_cropped_bigger'"
   ]
  },
  {
   "cell_type": "code",
   "execution_count": 331,
   "metadata": {},
   "outputs": [
    {
     "name": "stdout",
     "output_type": "stream",
     "text": [
      "Loading TFIDF distances\n",
      "Loading BERT distances\n",
      "Loading Processed Dataframe\n",
      "\n",
      " All datasets loaded.\n"
     ]
    }
   ],
   "source": [
    "base = os.path.abspath('../')\n",
    "\n",
    "def outname(name):\n",
    "    return os.path.basename(dataset_name).split('.')[0] + name\n",
    "    \n",
    "outname_tfidf = outname('_distances_tfidf.csv')\n",
    "outname_bert = outname('_distances_bert.csv')\n",
    "outname_df = outname('_preprocessed_df.csv')\n",
    "\n",
    "print('Loading TFIDF distances')\n",
    "df = pd.read_csv(f'{base}/data/processed/{outname_df}', index_col=0)\n",
    "\n",
    "print('Loading BERT distances')\n",
    "tfidf = pd.read_csv( f'{base}/data/processed/{outname_tfidf}', index_col=0)\n",
    "\n",
    "print('Loading Processed Dataframe')\n",
    "## It is not in Tensor format, but rather numpy array\n",
    "bert = pd.read_csv(f'{base}/data/processed/{outname_bert}', index_col=0)\n",
    "\n",
    "print('\\n All datasets loaded.')"
   ]
  },
  {
   "cell_type": "code",
   "execution_count": 367,
   "metadata": {},
   "outputs": [],
   "source": [
    "tfidf = tfidf.reset_index()\n",
    "bert = bert.reset_index()"
   ]
  },
  {
   "cell_type": "code",
   "execution_count": 404,
   "metadata": {},
   "outputs": [
    {
     "data": {
      "text/plain": [
       "'ørnered lystrup-elsted dagtilbud søg pædagog børnehav aarhus kommun lystrup 2020-02-27'"
      ]
     },
     "execution_count": 404,
     "metadata": {},
     "output_type": "execute_result"
    }
   ],
   "source": [
    "## notice the corpus and title_processed\n",
    "# df['corpus'][1]\n",
    "df['title_processed'][1]\n"
   ]
  },
  {
   "cell_type": "code",
   "execution_count": 408,
   "metadata": {},
   "outputs": [],
   "source": [
    "def preprocess_text(text):\n",
    "    # text = re.sub(r'[^\\w\\s]', '', str(text).lower().strip())\n",
    "    text = str(text).lower().strip()\n",
    "\n",
    "    # caveat: this might conflict with the english text\n",
    "    da_stop_words = stopwords.words('danish')\n",
    "    stemmer = DanishStemmer()\n",
    "    lemmatizer = lemmy.load(\"da\")\n",
    "\n",
    "    # remove plurals\n",
    "    textblob = TextBlob(text)\n",
    "    singles = [stemmer.stem(word) for word in textblob.words]\n",
    "\n",
    "    # remove danish stopwords\n",
    "    no_stop_words = [word for word in singles if word not in da_stop_words]\n",
    "\n",
    "    # join text so it can be lemmatized\n",
    "    joined_text = \" \".join(no_stop_words)\n",
    "\n",
    "    # lemmatization\n",
    "    final_text = lemmatizer.lemmatize(\"\", joined_text)\n",
    "\n",
    "    return final_text[0]\n"
   ]
  },
  {
   "cell_type": "markdown",
   "metadata": {},
   "source": [
    "## Direct results"
   ]
  },
  {
   "cell_type": "code",
   "execution_count": 481,
   "metadata": {},
   "outputs": [],
   "source": [
    "def find_direct_results(search_query):\n",
    "    matching_entries = [df['title_processed'].index[df['title_processed'].str.contains(word, case=False)]\n",
    "                        .values for word in search_query.split()]\n",
    "    return list(set(matching_entries[0]).intersection(*matching_entries))\n",
    "\n",
    "def print_direct_search_results(direct_results):\n",
    "    print('\\nDIRECT RESULTS:', len(direct_results))\n",
    "    for index, result in enumerate(direct_results):\n",
    "        print(result, '-',  df['title'][result])\n",
    "        agg_direct_results_indexes.append(result)"
   ]
  },
  {
   "cell_type": "markdown",
   "metadata": {},
   "source": [
    "## Baseline model: TFIDF"
   ]
  },
  {
   "cell_type": "code",
   "execution_count": 482,
   "metadata": {},
   "outputs": [
    {
     "name": "stdout",
     "output_type": "stream",
     "text": [
      "\n",
      "\n",
      " BERT\n",
      "9490 Ambulatoriesygeplejerske søges til Affektivt Team, Børne- og Ungdomspsykiatri Odense\n",
      "3433 Reservelæge søges til en vagtfri stilling i voksenteamet, Psykiatrisk Klinik for Spiseforstyrrelser, Børne- og Ungdomspsykiatrisk Afdeling, Region Midt\n",
      "2637 Serviceminded sekretær til psykiatrisk akutmodtagelse for børn og voksne på Psykiatrisk Center Glostrup\n",
      "1948 Specialbørnehjemmet Muslingen søger en omsorgs- og pædagogmedhjælper som fast vågen nattevagt til børn og unge med fysiske og psykiske funktionsnedsættelser\n",
      "5368 Lægesekretær til Børne- og Ungdomspsykiatrisk Afdeling, Skejby\n",
      "\n",
      "\n",
      " TFIDF\n",
      "5368 Lægesekretær til Børne- og Ungdomspsykiatrisk Afdeling, Skejby\n",
      "3433 Reservelæge søges til en vagtfri stilling i voksenteamet, Psykiatrisk Klinik for Spiseforstyrrelser, Børne- og Ungdomspsykiatrisk Afdeling, Region Midt\n",
      "1347 Sygeplejersker - Medicinsk Afdeling - Geriatrisk sengeafsnit, Hospitalsenheden Vest, Herning\n",
      "1553 Sygeplejerske\n",
      "6329 Introduktionslægestilling, Anæstesiologisk Afdeling, Herning\n"
     ]
    }
   ],
   "source": [
    "def recommendations(data, results):\n",
    "    sorted_results = []\n",
    "    recommendation_indexes = []\n",
    "    for result in results:\n",
    "#         print(result)\n",
    "        sorted_distances = data[str(result)].sort_values().iteritems()\n",
    "        \n",
    "        for item_index, item_value in enumerate(sorted_distances):\n",
    "            index, distance = item_value\n",
    "            sorted_results.append({\n",
    "                'item_index': index,\n",
    "                'distance': distance,\n",
    "                'title': df['title'][index]\n",
    "            })\n",
    "            \n",
    "    agg_sorted_indexes = [x['item_index'] for x in sorted_results]\n",
    "    recommendation_indexes = [x for x in agg_sorted_indexes if x not in results]\n",
    "        \n",
    "    return recommendation_indexes\n",
    "\n",
    "\n",
    "    \n",
    "# remove direct results from tfidf_results\n",
    "tdfidf_recommendation_indexes = [x for x in agg_tfidf_indexes if x not in agg_direct_results_indexes]\n",
    "\n",
    "print ('\\n\\n BERT')\n",
    "for recommendation in recommendations(data=bert, results=direct_results)[:k]:\n",
    "    print(recommendation, df['title'][recommendation])\n",
    "    \n",
    "print ('\\n\\n TFIDF')\n",
    "for recommendation in recommendations(data=tfidf, results=direct_results)[:k]:\n",
    "    print(recommendation, df['title'][recommendation])\n",
    "    \n"
   ]
  },
  {
   "cell_type": "markdown",
   "metadata": {},
   "source": [
    "# Results"
   ]
  },
  {
   "cell_type": "code",
   "execution_count": 485,
   "metadata": {},
   "outputs": [
    {
     "name": "stdout",
     "output_type": "stream",
     "text": [
      "\n",
      "DIRECT RESULTS: 21\n",
      "4640 - Onkologisk Afdeling R, Odense Universitetshospital OUH - søger lægesekretær\n",
      "4641 - Onkologisk Afdeling R, Odense Universitetshospital OUH - søger lægesekretær\n",
      "4642 - Onkologisk Afdeling R, Odense Universitetshospital OUH - søger lægesekretær\n",
      "4643 - Onkologisk Afdeling R, Odense Universitetshospital OUH - søger lægesekretær\n",
      "5335 - Lægesekretær til fast stilling - Øjenafdeling E\n",
      "3544 - Rehabiliteringsafdelingen OUH Svendborg Sygehus søger vikar for lægesekretær\n",
      "5336 - Lægesekretær til fast stilling - Øjenafdeling E\n",
      "5338 - Lægesekretær til Urinvejskirurgisk afdeling L\n",
      "5339 - Lægesekretær til Urinvejskirurgisk afdeling L\n",
      "5848 - Koordinator/lægesekretær til Psykiatrisk Afdeling Odense, Sengeafsnit P50V og Ø\n",
      "5849 - Koordinator/lægesekretær til Psykiatrisk Afdeling Odense, Sengeafsnit P50V og Ø\n",
      "5348 - Lægesekretær til Ortopædkirurgisk Afdeling O - OUH Odense\n",
      "5349 - Lægesekretær til Ortopædkirurgisk Afdeling O - OUH Odense\n",
      "5350 - Lægesekretær til Neurokirurgisk Afdeling\n",
      "5351 - Lægesekretær til Neurokirurgisk Afdeling\n",
      "2925 - Se her - DYGTIG LÆGESEKRETÆR søges til Lungemedicinsk afdeling J, OUH\n",
      "2926 - Se her - DYGTIG LÆGESEKRETÆR søges til Lungemedicinsk afdeling J, OUH\n",
      "5362 - Lægesekretær til Høreklinikken\n",
      "5363 - Lægesekretær til Høreklinikken\n",
      "5365 - Lægesekretær til Børne- og ungdomspsykiatri Odense – universitetsfunktion\n",
      "5366 - Lægesekretær til Børne- og ungdomspsykiatri Odense - universitetsfunktion\n",
      "\n",
      "\n",
      "TFIDF\n",
      "5368 Lægesekretær til Børne- og Ungdomspsykiatrisk Afdeling, Skejby\n",
      "3433 Reservelæge søges til en vagtfri stilling i voksenteamet, Psykiatrisk Klinik for Spiseforstyrrelser, Børne- og Ungdomspsykiatrisk Afdeling, Region Midt\n",
      "1347 Sygeplejersker - Medicinsk Afdeling - Geriatrisk sengeafsnit, Hospitalsenheden Vest, Herning\n",
      "1553 Sygeplejerske\n",
      "6329 Introduktionslægestilling, Anæstesiologisk Afdeling, Herning\n",
      "\n",
      "\n",
      "BERT\n",
      "9490 Ambulatoriesygeplejerske søges til Affektivt Team, Børne- og Ungdomspsykiatri Odense\n",
      "3433 Reservelæge søges til en vagtfri stilling i voksenteamet, Psykiatrisk Klinik for Spiseforstyrrelser, Børne- og Ungdomspsykiatrisk Afdeling, Region Midt\n",
      "2637 Serviceminded sekretær til psykiatrisk akutmodtagelse for børn og voksne på Psykiatrisk Center Glostrup\n",
      "1948 Specialbørnehjemmet Muslingen søger en omsorgs- og pædagogmedhjælper som fast vågen nattevagt til børn og unge med fysiske og psykiske funktionsnedsættelser\n",
      "5368 Lægesekretær til Børne- og Ungdomspsykiatrisk Afdeling, Skejby\n"
     ]
    }
   ],
   "source": [
    "# results with some cities are wrong (ex, after preprocessing, Odense becomes Ode)\n",
    "\n",
    "def display_results(data, name, k):\n",
    "    print (f'\\n\\n{name}')\n",
    "    for index, recommendation in enumerate(recommendations(data=data, results=direct_results)[:k]):\n",
    "        print(recommendation, df['title'][recommendation])\n",
    "    \n",
    "\n",
    "def get_recommendations(query, k):\n",
    "    direct_results = find_direct_results(preprocess_text(query))\n",
    "    print_direct_search_results(direct_results)\n",
    "    \n",
    "    \n",
    "    display_results(data=tfidf, name='TFIDF', k=k)\n",
    "    display_results(data=bert, name='BERT', k=k)\n",
    "        \n",
    "\n",
    "get_recommendations(query='Lægesekretær Odense', k=5)\n"
   ]
  },
  {
   "cell_type": "code",
   "execution_count": 343,
   "metadata": {},
   "outputs": [
    {
     "name": "stdout",
     "output_type": "stream",
     "text": [
      "[8717]\n",
      "0 - Praktikant\n",
      "similarity: 0.43861383739694293\n",
      "1 - Frivillig søges til Lærings- og lektiecaféen Sofiendal\n",
      "similarity: 0.3952099886799837\n",
      "2 - Lektiecaféen på Blågårdens bibliotek på Nørrebro søger en nye frivillige\n",
      "similarity: 0.3687287446862976\n",
      "3 - Ungdomsleder\n",
      "similarity: 0.36863721091034357\n"
     ]
    }
   ],
   "source": [
    "agg_tfidf_results = []\n",
    "agg_tfidf_indexes = []\n",
    "flat_distances = []\n",
    "\n",
    "vectorizer = TfidfVectorizer(stop_words='english')\n",
    "X = vectorizer.fit_transform(df['corpus'])\n",
    "\n",
    "print(direct_results)\n",
    "\n",
    "# depends on direct results\n",
    "for result_index, result in enumerate(direct_results):\n",
    "    # - performance tweak: instead of pairing the entire matrix,\n",
    "    # only pair the actual direct result. \n",
    "    # - performance tweak: use n_jobs=-1 to use all the CPU cores available.\n",
    "    distances = pairwise_kernels(X, X[result], n_jobs=-1, metric='cosine')\n",
    "    flat_distances = np.array(distances).flatten()\n",
    "    \n",
    "    for index, distance in enumerate(flat_distances):       \n",
    "        agg_tfidf_results.append({\n",
    "        'distance': float(distance),\n",
    "        'index': index,\n",
    "        'result_title': df['title'][index],\n",
    "        'description': df['description'][index]\n",
    "        })\n",
    "        \n",
    "# sort by distance       \n",
    "sorted_tfidf = sorted(agg_tfidf_results, key=lambda k: k['distance'], reverse=True)[:5]\n",
    "\n",
    "# print(sorted_tfidf)\n",
    "\n",
    "# aggregate sorted indexes\n",
    "# for item in sorted_tfidf:\n",
    "#     print(item['result_title'])\n",
    "#     print(item['index'])\n",
    "#     print(item['distance'])\n",
    "# #     agg_tfidf_indexes.append(item['index'])\n",
    "\n",
    "agg_tfidf_indexes = [x['index'] for x in sorted_tfidf]\n",
    "    \n",
    "# remove direct results from tfidf_results\n",
    "tdfidf_recommendation_indexes = [x for x in agg_tfidf_indexes if x not in agg_direct_results_indexes]\n",
    "\n",
    "\n",
    "for index, value in enumerate(tdfidf_recommendation_indexes):\n",
    "    print(index, '-',  df['title'][value])\n",
    "    print('similarity:', flat_distances[value])\n",
    "\n",
    "# [print(x) for x in sorted_tfidf]"
   ]
  },
  {
   "cell_type": "code",
   "execution_count": 486,
   "metadata": {},
   "outputs": [
    {
     "data": {
      "text/plain": [
       "tensor([0.7842, 0.7597, 0.6783,  ..., 0.6991, 0.7129, 0.8068])"
      ]
     },
     "execution_count": 486,
     "metadata": {},
     "output_type": "execute_result"
    }
   ],
   "source": [
    "query_embedding_bert = embedder.encode(search_query, convert_to_tensor=True)\n",
    "\n",
    "import torch\n",
    "# px = pd.DataFrame(query_embedding_bert.numpy())\n",
    "\n",
    "# px.head()\n",
    "\n",
    "stuff_x = torch.save(embedder.encode(df['corpus'], convert_to_tensor=True), 'file2.pt')\n",
    "stuff_y = torch.load('file2.pt')\n",
    "\n",
    "util.pytorch_cos_sim(query_embedding_bert, stuff_y)[0]"
   ]
  },
  {
   "cell_type": "code",
   "execution_count": 488,
   "metadata": {},
   "outputs": [],
   "source": [
    "type(stuff_y)\n",
    "stuff_z = torch.load('file2.pt')"
   ]
  },
  {
   "cell_type": "code",
   "execution_count": 206,
   "metadata": {},
   "outputs": [
    {
     "ename": "RuntimeError",
     "evalue": "Expected object of scalar type Float but got scalar type Double for argument #3 'mat2' in call to _th_addmm_out",
     "output_type": "error",
     "traceback": [
      "\u001b[0;31m---------------------------------------------------------------------------\u001b[0m",
      "\u001b[0;31mRuntimeError\u001b[0m                              Traceback (most recent call last)",
      "\u001b[0;32m<ipython-input-206-38d80450a4e4>\u001b[0m in \u001b[0;36m<module>\u001b[0;34m\u001b[0m\n\u001b[1;32m      1\u001b[0m \u001b[0mquery_embedding_bert\u001b[0m \u001b[0;34m=\u001b[0m \u001b[0membedder\u001b[0m\u001b[0;34m.\u001b[0m\u001b[0mencode\u001b[0m\u001b[0;34m(\u001b[0m\u001b[0msearch_query\u001b[0m\u001b[0;34m,\u001b[0m \u001b[0mconvert_to_tensor\u001b[0m\u001b[0;34m=\u001b[0m\u001b[0;32mFalse\u001b[0m\u001b[0;34m)\u001b[0m\u001b[0;34m\u001b[0m\u001b[0;34m\u001b[0m\u001b[0m\n\u001b[1;32m      2\u001b[0m \u001b[0;34m\u001b[0m\u001b[0m\n\u001b[0;32m----> 3\u001b[0;31m \u001b[0mutil\u001b[0m\u001b[0;34m.\u001b[0m\u001b[0mpytorch_cos_sim\u001b[0m\u001b[0;34m(\u001b[0m\u001b[0mquery_embedding_bert\u001b[0m\u001b[0;34m,\u001b[0m \u001b[0mbert\u001b[0m\u001b[0;34m.\u001b[0m\u001b[0mto_numpy\u001b[0m\u001b[0;34m(\u001b[0m\u001b[0;34m)\u001b[0m\u001b[0;34m)\u001b[0m\u001b[0;34m[\u001b[0m\u001b[0;36m0\u001b[0m\u001b[0;34m]\u001b[0m\u001b[0;34m\u001b[0m\u001b[0;34m\u001b[0m\u001b[0m\n\u001b[0m",
      "\u001b[0;32m/usr/local/lib/python3.8/site-packages/sentence_transformers/util.py\u001b[0m in \u001b[0;36mpytorch_cos_sim\u001b[0;34m(a, b)\u001b[0m\n\u001b[1;32m     30\u001b[0m     \u001b[0ma_norm\u001b[0m \u001b[0;34m=\u001b[0m \u001b[0ma\u001b[0m \u001b[0;34m/\u001b[0m \u001b[0ma\u001b[0m\u001b[0;34m.\u001b[0m\u001b[0mnorm\u001b[0m\u001b[0;34m(\u001b[0m\u001b[0mdim\u001b[0m\u001b[0;34m=\u001b[0m\u001b[0;36m1\u001b[0m\u001b[0;34m)\u001b[0m\u001b[0;34m[\u001b[0m\u001b[0;34m:\u001b[0m\u001b[0;34m,\u001b[0m \u001b[0;32mNone\u001b[0m\u001b[0;34m]\u001b[0m\u001b[0;34m\u001b[0m\u001b[0;34m\u001b[0m\u001b[0m\n\u001b[1;32m     31\u001b[0m     \u001b[0mb_norm\u001b[0m \u001b[0;34m=\u001b[0m \u001b[0mb\u001b[0m \u001b[0;34m/\u001b[0m \u001b[0mb\u001b[0m\u001b[0;34m.\u001b[0m\u001b[0mnorm\u001b[0m\u001b[0;34m(\u001b[0m\u001b[0mdim\u001b[0m\u001b[0;34m=\u001b[0m\u001b[0;36m1\u001b[0m\u001b[0;34m)\u001b[0m\u001b[0;34m[\u001b[0m\u001b[0;34m:\u001b[0m\u001b[0;34m,\u001b[0m \u001b[0;32mNone\u001b[0m\u001b[0;34m]\u001b[0m\u001b[0;34m\u001b[0m\u001b[0;34m\u001b[0m\u001b[0m\n\u001b[0;32m---> 32\u001b[0;31m     \u001b[0;32mreturn\u001b[0m \u001b[0mtorch\u001b[0m\u001b[0;34m.\u001b[0m\u001b[0mmm\u001b[0m\u001b[0;34m(\u001b[0m\u001b[0ma_norm\u001b[0m\u001b[0;34m,\u001b[0m \u001b[0mb_norm\u001b[0m\u001b[0;34m.\u001b[0m\u001b[0mtranspose\u001b[0m\u001b[0;34m(\u001b[0m\u001b[0;36m0\u001b[0m\u001b[0;34m,\u001b[0m \u001b[0;36m1\u001b[0m\u001b[0;34m)\u001b[0m\u001b[0;34m)\u001b[0m\u001b[0;34m\u001b[0m\u001b[0;34m\u001b[0m\u001b[0m\n\u001b[0m\u001b[1;32m     33\u001b[0m \u001b[0;34m\u001b[0m\u001b[0m\n\u001b[1;32m     34\u001b[0m \u001b[0;34m\u001b[0m\u001b[0m\n",
      "\u001b[0;31mRuntimeError\u001b[0m: Expected object of scalar type Float but got scalar type Double for argument #3 'mat2' in call to _th_addmm_out"
     ]
    }
   ],
   "source": [
    "query_embedding_bert = embedder.encode(search_query, convert_to_tensor=False)\n",
    "\n",
    "util.pytorch_cos_sim(query_embedding_bert, bert.to_numpy())[0]"
   ]
  },
  {
   "cell_type": "code",
   "execution_count": 215,
   "metadata": {},
   "outputs": [],
   "source": [
    "title_encodding = embedder.encode(df['title_processed'][:100])"
   ]
  },
  {
   "cell_type": "code",
   "execution_count": 223,
   "metadata": {},
   "outputs": [
    {
     "data": {
      "text/plain": [
       "numpy.ndarray"
      ]
     },
     "execution_count": 223,
     "metadata": {},
     "output_type": "execute_result"
    }
   ],
   "source": [
    "type(title_encodding)"
   ]
  },
  {
   "cell_type": "code",
   "execution_count": 236,
   "metadata": {},
   "outputs": [
    {
     "data": {
      "text/html": [
       "<div>\n",
       "<style scoped>\n",
       "    .dataframe tbody tr th:only-of-type {\n",
       "        vertical-align: middle;\n",
       "    }\n",
       "\n",
       "    .dataframe tbody tr th {\n",
       "        vertical-align: top;\n",
       "    }\n",
       "\n",
       "    .dataframe thead th {\n",
       "        text-align: right;\n",
       "    }\n",
       "</style>\n",
       "<table border=\"1\" class=\"dataframe\">\n",
       "  <thead>\n",
       "    <tr style=\"text-align: right;\">\n",
       "      <th></th>\n",
       "      <th>0</th>\n",
       "      <th>1</th>\n",
       "      <th>2</th>\n",
       "      <th>3</th>\n",
       "      <th>4</th>\n",
       "      <th>5</th>\n",
       "      <th>6</th>\n",
       "      <th>7</th>\n",
       "      <th>8</th>\n",
       "      <th>9</th>\n",
       "      <th>...</th>\n",
       "      <th>9990</th>\n",
       "      <th>9991</th>\n",
       "      <th>9992</th>\n",
       "      <th>9993</th>\n",
       "      <th>9994</th>\n",
       "      <th>9995</th>\n",
       "      <th>9996</th>\n",
       "      <th>9997</th>\n",
       "      <th>9998</th>\n",
       "      <th>9999</th>\n",
       "    </tr>\n",
       "  </thead>\n",
       "  <tbody>\n",
       "    <tr>\n",
       "      <th>0</th>\n",
       "      <td>1.110223e-16</td>\n",
       "      <td>0.985694</td>\n",
       "      <td>0.998010</td>\n",
       "      <td>0.944209</td>\n",
       "      <td>0.969883</td>\n",
       "      <td>0.926449</td>\n",
       "      <td>0.914511</td>\n",
       "      <td>0.980756</td>\n",
       "      <td>0.968036</td>\n",
       "      <td>0.948265</td>\n",
       "      <td>...</td>\n",
       "      <td>0.945846</td>\n",
       "      <td>0.996605</td>\n",
       "      <td>0.958133</td>\n",
       "      <td>0.988702</td>\n",
       "      <td>0.995991</td>\n",
       "      <td>0.997833</td>\n",
       "      <td>0.997683</td>\n",
       "      <td>0.999298</td>\n",
       "      <td>0.995270</td>\n",
       "      <td>0.973767</td>\n",
       "    </tr>\n",
       "    <tr>\n",
       "      <th>1</th>\n",
       "      <td>9.856935e-01</td>\n",
       "      <td>0.000000</td>\n",
       "      <td>0.998954</td>\n",
       "      <td>0.996815</td>\n",
       "      <td>0.985291</td>\n",
       "      <td>0.982570</td>\n",
       "      <td>0.996121</td>\n",
       "      <td>0.934484</td>\n",
       "      <td>0.939784</td>\n",
       "      <td>0.994898</td>\n",
       "      <td>...</td>\n",
       "      <td>0.979247</td>\n",
       "      <td>0.998215</td>\n",
       "      <td>0.991520</td>\n",
       "      <td>0.994136</td>\n",
       "      <td>0.991894</td>\n",
       "      <td>0.999197</td>\n",
       "      <td>0.998782</td>\n",
       "      <td>0.999631</td>\n",
       "      <td>0.990436</td>\n",
       "      <td>0.993780</td>\n",
       "    </tr>\n",
       "    <tr>\n",
       "      <th>2</th>\n",
       "      <td>9.980099e-01</td>\n",
       "      <td>0.998954</td>\n",
       "      <td>0.000000</td>\n",
       "      <td>0.998417</td>\n",
       "      <td>0.998179</td>\n",
       "      <td>0.996164</td>\n",
       "      <td>0.998788</td>\n",
       "      <td>0.998062</td>\n",
       "      <td>0.998843</td>\n",
       "      <td>0.998406</td>\n",
       "      <td>...</td>\n",
       "      <td>0.997004</td>\n",
       "      <td>0.995851</td>\n",
       "      <td>0.998667</td>\n",
       "      <td>0.999080</td>\n",
       "      <td>0.997468</td>\n",
       "      <td>0.997032</td>\n",
       "      <td>0.997169</td>\n",
       "      <td>0.999142</td>\n",
       "      <td>0.997013</td>\n",
       "      <td>0.997613</td>\n",
       "    </tr>\n",
       "    <tr>\n",
       "      <th>3</th>\n",
       "      <td>9.442089e-01</td>\n",
       "      <td>0.996815</td>\n",
       "      <td>0.998417</td>\n",
       "      <td>0.000000</td>\n",
       "      <td>0.963142</td>\n",
       "      <td>0.875405</td>\n",
       "      <td>0.970257</td>\n",
       "      <td>0.979621</td>\n",
       "      <td>0.925585</td>\n",
       "      <td>0.962968</td>\n",
       "      <td>...</td>\n",
       "      <td>0.959437</td>\n",
       "      <td>0.997300</td>\n",
       "      <td>0.973085</td>\n",
       "      <td>0.996138</td>\n",
       "      <td>0.996988</td>\n",
       "      <td>0.985850</td>\n",
       "      <td>0.998157</td>\n",
       "      <td>0.999442</td>\n",
       "      <td>0.996446</td>\n",
       "      <td>0.981257</td>\n",
       "    </tr>\n",
       "    <tr>\n",
       "      <th>4</th>\n",
       "      <td>9.698833e-01</td>\n",
       "      <td>0.985291</td>\n",
       "      <td>0.998179</td>\n",
       "      <td>0.963142</td>\n",
       "      <td>0.000000</td>\n",
       "      <td>0.886379</td>\n",
       "      <td>0.996703</td>\n",
       "      <td>0.991449</td>\n",
       "      <td>0.986418</td>\n",
       "      <td>0.990128</td>\n",
       "      <td>...</td>\n",
       "      <td>0.997757</td>\n",
       "      <td>0.996894</td>\n",
       "      <td>0.999002</td>\n",
       "      <td>0.999311</td>\n",
       "      <td>0.993111</td>\n",
       "      <td>0.997778</td>\n",
       "      <td>0.997880</td>\n",
       "      <td>0.999358</td>\n",
       "      <td>0.991872</td>\n",
       "      <td>0.927339</td>\n",
       "    </tr>\n",
       "  </tbody>\n",
       "</table>\n",
       "<p>5 rows × 10000 columns</p>\n",
       "</div>"
      ],
      "text/plain": [
       "              0         1         2         3         4         5         6  \\\n",
       "0  1.110223e-16  0.985694  0.998010  0.944209  0.969883  0.926449  0.914511   \n",
       "1  9.856935e-01  0.000000  0.998954  0.996815  0.985291  0.982570  0.996121   \n",
       "2  9.980099e-01  0.998954  0.000000  0.998417  0.998179  0.996164  0.998788   \n",
       "3  9.442089e-01  0.996815  0.998417  0.000000  0.963142  0.875405  0.970257   \n",
       "4  9.698833e-01  0.985291  0.998179  0.963142  0.000000  0.886379  0.996703   \n",
       "\n",
       "          7         8         9  ...      9990      9991      9992      9993  \\\n",
       "0  0.980756  0.968036  0.948265  ...  0.945846  0.996605  0.958133  0.988702   \n",
       "1  0.934484  0.939784  0.994898  ...  0.979247  0.998215  0.991520  0.994136   \n",
       "2  0.998062  0.998843  0.998406  ...  0.997004  0.995851  0.998667  0.999080   \n",
       "3  0.979621  0.925585  0.962968  ...  0.959437  0.997300  0.973085  0.996138   \n",
       "4  0.991449  0.986418  0.990128  ...  0.997757  0.996894  0.999002  0.999311   \n",
       "\n",
       "       9994      9995      9996      9997      9998      9999  \n",
       "0  0.995991  0.997833  0.997683  0.999298  0.995270  0.973767  \n",
       "1  0.991894  0.999197  0.998782  0.999631  0.990436  0.993780  \n",
       "2  0.997468  0.997032  0.997169  0.999142  0.997013  0.997613  \n",
       "3  0.996988  0.985850  0.998157  0.999442  0.996446  0.981257  \n",
       "4  0.993111  0.997778  0.997880  0.999358  0.991872  0.927339  \n",
       "\n",
       "[5 rows x 10000 columns]"
      ]
     },
     "execution_count": 236,
     "metadata": {},
     "output_type": "execute_result"
    }
   ],
   "source": [
    "tfidf.reset_index().head()"
   ]
  },
  {
   "cell_type": "code",
   "execution_count": 362,
   "metadata": {},
   "outputs": [
    {
     "name": "stdout",
     "output_type": "stream",
     "text": [
      "(0.9859759941119464, 0.0)\n",
      "(0.972418363557518, 0.7825049292146624)\n",
      "(0.9873618983766532, 0.8177851578058495)\n",
      "(0.931070415295759, 0.8201493512996451)\n",
      "(0.9904168478008406, 0.8249228435040399)\n"
     ]
    }
   ],
   "source": [
    "for item in tfidf['4'].sort_values().head().iteritems():\n",
    "    print(item)"
   ]
  },
  {
   "cell_type": "code",
   "execution_count": 268,
   "metadata": {},
   "outputs": [
    {
     "name": "stdout",
     "output_type": "stream",
     "text": [
      "8717\n",
      "4045\n",
      "0.0 8711 Call centermedarbejder - 28 timer - primært dag og aften\n",
      "0.7420769978446451 2445 Social og- sundhedsassistent til D5 Sydvestjysk Sygehus, Esbjerg\n",
      "0.7485641007115025 4050 Psykiatrisk Afdeling Esbjerg afsnit E, social- og sundhedsassistent, fast stilling.\n",
      "0.7499849640317027 6735 Handicaphjælper - Esbjerg V\n",
      "0.7558654560380074 4488 Peer-medarbejder søges til Lokalpsykiatri Varde, Psykiatrisk Afdeling Esbjerg\n"
     ]
    },
    {
     "data": {
      "text/plain": [
       "[None, None, None, None, None]"
      ]
     },
     "execution_count": 268,
     "metadata": {},
     "output_type": "execute_result"
    }
   ],
   "source": [
    "tfidf = tfidf.reset_index()\n",
    "bert = tfidf.reset_index()"
   ]
  },
  {
   "cell_type": "code",
   "execution_count": 361,
   "metadata": {},
   "outputs": [
    {
     "name": "stdout",
     "output_type": "stream",
     "text": [
      "stuff 0\n",
      "0.984755    0.000000\n",
      "0.991554    0.561386\n",
      "0.983282    0.604790\n",
      "0.984402    0.631271\n",
      "0.992901    0.631363\n",
      "              ...   \n",
      "0.989780    0.998822\n",
      "0.997971    0.998829\n",
      "0.997983    0.998836\n",
      "0.998058    0.998880\n",
      "0.998146    0.998930\n",
      "Name: 8717, Length: 10000, dtype: float64\n",
      "1349\n",
      "3433\n",
      "1548\n",
      "7663\n",
      "7664\n",
      "5368\n",
      "[{'index:': 1349, 'distance': (0.9729187908918416, 0.0)}, {'index:': 1349, 'distance': (0.976080194114999, 0.13524105628781802)}, {'index:': 1349, 'distance': (0.994599003592646, 0.20184004721366253)}, {'index:': 1349, 'distance': (0.995500100616644, 0.2649130464782875)}, {'index:': 1349, 'distance': (0.99280050227444, 0.4324744244879083)}, {'index:': 1349, 'distance': (0.931070415295759, 0.5707951257806185)}, {'index:': 1349, 'distance': (0.9855324104392258, 0.5934591765523491)}, {'index:': 1349, 'distance': (0.9700067801112836, 0.6006131795106848)}, {'index:': 1349, 'distance': (0.9688063474315912, 0.6260314475580637)}, {'index:': 1349, 'distance': (0.9873618983766532, 0.6277139163186127)}]\n"
     ]
    }
   ],
   "source": [
    "tfidf_agg_distances = []\n",
    "\n",
    "print('stuff', tfidf[str(8717)].sort_values())\n",
    "\n",
    "for item in direct_results:\n",
    "    print(item)\n",
    "#     print(df['title'][item])\n",
    "    for value in tfidf[str(item)].sort_values().iteritems():\n",
    "        \n",
    "        # break\n",
    "        tfidf_agg_distances.append({\n",
    "            'index:': item,\n",
    "            'distance': value\n",
    "        })\n",
    "\n",
    "print(tfidf_agg_distances[:10])\n",
    "# for value in  tfidf[str(4045)].sort_values().head().iteritems():\n",
    "#     ix, dist = value\n",
    "#     print(df['title'][ix])"
   ]
  },
  {
   "cell_type": "code",
   "execution_count": 249,
   "metadata": {},
   "outputs": [
    {
     "data": {
      "text/plain": [
       "'Peer-medarbejder søges til Lokalpsykiatri Varde, Psykiatrisk Afdeling Esbjerg'"
      ]
     },
     "execution_count": 249,
     "metadata": {},
     "output_type": "execute_result"
    }
   ],
   "source": [
    "df['title'][4050]\n",
    "df['title'][6735]\n",
    "df['title'][4488]"
   ]
  },
  {
   "cell_type": "code",
   "execution_count": 264,
   "metadata": {},
   "outputs": [
    {
     "data": {
      "text/plain": [
       "8711    2.980232e-07\n",
       "7290    3.115213e-02\n",
       "7587    3.682375e-02\n",
       "2998    3.785247e-02\n",
       "3401    4.086298e-02\n",
       "            ...     \n",
       "197     2.356173e-01\n",
       "4046    2.389286e-01\n",
       "3753    2.422984e-01\n",
       "4034    2.478661e-01\n",
       "5204    2.630115e-01\n",
       "Name: 8711, Length: 10000, dtype: float64"
      ]
     },
     "execution_count": 264,
     "metadata": {},
     "output_type": "execute_result"
    }
   ],
   "source": [
    "bert.reset_index()['8711'].sort_values(ascending=True)"
   ]
  },
  {
   "cell_type": "code",
   "execution_count": 261,
   "metadata": {},
   "outputs": [
    {
     "data": {
      "text/plain": [
       "'Western guitar'"
      ]
     },
     "execution_count": 261,
     "metadata": {},
     "output_type": "execute_result"
    }
   ],
   "source": [
    "df['title'][197]"
   ]
  },
  {
   "cell_type": "code",
   "execution_count": 279,
   "metadata": {},
   "outputs": [
    {
     "data": {
      "text/plain": [
       "[3, 1, 2, 0]"
      ]
     },
     "execution_count": 279,
     "metadata": {},
     "output_type": "execute_result"
    }
   ],
   "source": []
  },
  {
   "cell_type": "code",
   "execution_count": 439,
   "metadata": {},
   "outputs": [
    {
     "data": {
      "text/plain": [
       "[{'name': 'Jane', 'age': 39}, {'name': 'John', 'age': 45}]"
      ]
     },
     "execution_count": 439,
     "metadata": {},
     "output_type": "execute_result"
    }
   ],
   "source": [
    "obj = [{'name': 'John', 'age': 45}, {'name': 'Jane', 'age': 39}]\n",
    "\n",
    "sorted_obj = sorted(obj, key=lambda x: x['age'], reverse=False)\n",
    "\n",
    "sorted_obj"
   ]
  },
  {
   "cell_type": "code",
   "execution_count": null,
   "metadata": {},
   "outputs": [],
   "source": []
  }
 ],
 "metadata": {
  "kernelspec": {
   "display_name": "Python 3",
   "language": "python",
   "name": "python3"
  },
  "language_info": {
   "codemirror_mode": {
    "name": "ipython",
    "version": 3
   },
   "file_extension": ".py",
   "mimetype": "text/x-python",
   "name": "python",
   "nbconvert_exporter": "python",
   "pygments_lexer": "ipython3",
   "version": "3.8.5"
  }
 },
 "nbformat": 4,
 "nbformat_minor": 4
}
