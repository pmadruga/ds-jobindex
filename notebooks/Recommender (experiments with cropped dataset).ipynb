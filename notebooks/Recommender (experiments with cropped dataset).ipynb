{
 "cells": [
  {
   "cell_type": "code",
   "execution_count": 76,
   "metadata": {},
   "outputs": [
    {
     "name": "stderr",
     "output_type": "stream",
     "text": [
      "[nltk_data] Downloading package stopwords to\n",
      "[nltk_data]     /Users/pedromadruga/nltk_data...\n",
      "[nltk_data]   Package stopwords is already up-to-date!\n"
     ]
    },
    {
     "data": {
      "text/plain": [
       "True"
      ]
     },
     "execution_count": 76,
     "metadata": {},
     "output_type": "execute_result"
    }
   ],
   "source": [
    "import pandas as pd\n",
    "import nltk\n",
    "import numpy as np\n",
    "nltk.download('stopwords')"
   ]
  },
  {
   "cell_type": "code",
   "execution_count": 77,
   "metadata": {},
   "outputs": [
    {
     "data": {
      "text/html": [
       "<div>\n",
       "<style scoped>\n",
       "    .dataframe tbody tr th:only-of-type {\n",
       "        vertical-align: middle;\n",
       "    }\n",
       "\n",
       "    .dataframe tbody tr th {\n",
       "        vertical-align: top;\n",
       "    }\n",
       "\n",
       "    .dataframe thead th {\n",
       "        text-align: right;\n",
       "    }\n",
       "</style>\n",
       "<table border=\"1\" class=\"dataframe\">\n",
       "  <thead>\n",
       "    <tr style=\"text-align: right;\">\n",
       "      <th></th>\n",
       "      <th>title</th>\n",
       "      <th>date</th>\n",
       "      <th>company</th>\n",
       "      <th>description</th>\n",
       "      <th>source</th>\n",
       "      <th>company_rating</th>\n",
       "      <th>type</th>\n",
       "      <th>company_rating_amount</th>\n",
       "    </tr>\n",
       "  </thead>\n",
       "  <tbody>\n",
       "    <tr>\n",
       "      <th>0</th>\n",
       "      <td>Salg og rådgivning af CAD-/CAM-løsninger – Acc...</td>\n",
       "      <td>2020-03-27</td>\n",
       "      <td>Edge-Team</td>\n",
       "      <td>Edge-Team, Egå eller OdenseEdge-Team søger tek...</td>\n",
       "      <td>NaN</td>\n",
       "      <td>NaN</td>\n",
       "      <td>paid</td>\n",
       "      <td>NaN</td>\n",
       "    </tr>\n",
       "    <tr>\n",
       "      <th>1</th>\n",
       "      <td>Handicaphjælper</td>\n",
       "      <td>2020-03-26</td>\n",
       "      <td>NaN</td>\n",
       "      <td>Vikarvagt hos en dame på 70 år.</td>\n",
       "      <td>DUOS</td>\n",
       "      <td>NaN</td>\n",
       "      <td>unpaid</td>\n",
       "      <td>NaN</td>\n",
       "    </tr>\n",
       "    <tr>\n",
       "      <th>2</th>\n",
       "      <td>Handicaphjælper</td>\n",
       "      <td>2020-03-26</td>\n",
       "      <td>NaN</td>\n",
       "      <td>Vikar vagt til 50 årig mand med ALS.</td>\n",
       "      <td>DUOS</td>\n",
       "      <td>NaN</td>\n",
       "      <td>unpaid</td>\n",
       "      <td>NaN</td>\n",
       "    </tr>\n",
       "    <tr>\n",
       "      <th>3</th>\n",
       "      <td>Jobbank for sundhedspersonale - COVID-19</td>\n",
       "      <td>2020-03-26</td>\n",
       "      <td>Ældre &amp; Sundhed</td>\n",
       "      <td>Lolland Kommune opretter en COVID-19-jobba...</td>\n",
       "      <td>Jobcenter</td>\n",
       "      <td>4 af 5 stjerner</td>\n",
       "      <td>unpaid</td>\n",
       "      <td>62.0</td>\n",
       "    </tr>\n",
       "  </tbody>\n",
       "</table>\n",
       "</div>"
      ],
      "text/plain": [
       "                                               title        date  \\\n",
       "0  Salg og rådgivning af CAD-/CAM-løsninger – Acc...  2020-03-27   \n",
       "1                                    Handicaphjælper  2020-03-26   \n",
       "2                                    Handicaphjælper  2020-03-26   \n",
       "3           Jobbank for sundhedspersonale - COVID-19  2020-03-26   \n",
       "\n",
       "           company                                        description  \\\n",
       "0        Edge-Team  Edge-Team, Egå eller OdenseEdge-Team søger tek...   \n",
       "1              NaN                Vikarvagt hos en dame på 70 år.       \n",
       "2              NaN           Vikar vagt til 50 årig mand med ALS.       \n",
       "3  Ældre & Sundhed      Lolland Kommune opretter en COVID-19-jobba...   \n",
       "\n",
       "      source   company_rating    type  company_rating_amount  \n",
       "0        NaN              NaN    paid                    NaN  \n",
       "1       DUOS              NaN  unpaid                    NaN  \n",
       "2       DUOS              NaN  unpaid                    NaN  \n",
       "3  Jobcenter  4 af 5 stjerner  unpaid                   62.0  "
      ]
     },
     "execution_count": 77,
     "metadata": {},
     "output_type": "execute_result"
    }
   ],
   "source": [
    "# import a cropped version of the full data set\n",
    "df_init = pd.read_csv('../data/interim/jobindex_cropped.csv')\n",
    "df = df_init.head(4)\n",
    "df"
   ]
  },
  {
   "cell_type": "code",
   "execution_count": 78,
   "metadata": {},
   "outputs": [
    {
     "data": {
      "text/html": [
       "<div>\n",
       "<style scoped>\n",
       "    .dataframe tbody tr th:only-of-type {\n",
       "        vertical-align: middle;\n",
       "    }\n",
       "\n",
       "    .dataframe tbody tr th {\n",
       "        vertical-align: top;\n",
       "    }\n",
       "\n",
       "    .dataframe thead th {\n",
       "        text-align: right;\n",
       "    }\n",
       "</style>\n",
       "<table border=\"1\" class=\"dataframe\">\n",
       "  <thead>\n",
       "    <tr style=\"text-align: right;\">\n",
       "      <th></th>\n",
       "      <th>title</th>\n",
       "      <th>company</th>\n",
       "      <th>description</th>\n",
       "    </tr>\n",
       "  </thead>\n",
       "  <tbody>\n",
       "    <tr>\n",
       "      <th>0</th>\n",
       "      <td>Salg og rådgivning af CAD-/CAM-løsninger – Acc...</td>\n",
       "      <td>Edge-Team</td>\n",
       "      <td>Edge-Team, Egå eller OdenseEdge-Team søger tek...</td>\n",
       "    </tr>\n",
       "    <tr>\n",
       "      <th>3</th>\n",
       "      <td>Jobbank for sundhedspersonale - COVID-19</td>\n",
       "      <td>Ældre &amp; Sundhed</td>\n",
       "      <td>Lolland Kommune opretter en COVID-19-jobba...</td>\n",
       "    </tr>\n",
       "  </tbody>\n",
       "</table>\n",
       "</div>"
      ],
      "text/plain": [
       "                                               title          company  \\\n",
       "0  Salg og rådgivning af CAD-/CAM-løsninger – Acc...        Edge-Team   \n",
       "3           Jobbank for sundhedspersonale - COVID-19  Ældre & Sundhed   \n",
       "\n",
       "                                         description  \n",
       "0  Edge-Team, Egå eller OdenseEdge-Team søger tek...  \n",
       "3      Lolland Kommune opretter en COVID-19-jobba...  "
      ]
     },
     "execution_count": 78,
     "metadata": {},
     "output_type": "execute_result"
    }
   ],
   "source": [
    "# show only features that matter\n",
    "df_filtered = df[['title', 'company', 'description']]\n",
    "df_filtered.dropna().head()\n",
    "# df_filtered.head"
   ]
  },
  {
   "cell_type": "code",
   "execution_count": 79,
   "metadata": {},
   "outputs": [
    {
     "name": "stdout",
     "output_type": "stream",
     "text": [
      "(4,)\n"
     ]
    },
    {
     "data": {
      "text/plain": [
       "array(['Edge-Team, Egå eller OdenseEdge-Team søger teknisk orienterede konsulenter til salg og rådgivning af henholdsvis vores CAD- og CAM-løsninger. Du skal både pleje eksisterende kunder samt varetage kontakten til potentielle kunder. Som ansvarlig for hele salgsprocessen skal du arbejde selvstændigt med alt fra kundekontakt, forhandling og opfølgning.  Du kommer til at sælge både software, implementerings- og udviklingsprojekter samt serviceaftaler. Du vil få en god støtte i dit daglige arbejde fra vores tekniske presales-konsulenter og specialister i supportteamet.  Edge-Team er blandt de førende virksomheder i Danmark inden for CAD-/CAM-helhedsløsninger, vores kunder er produktionsvirksomheder og udviklingshuse i hele landet, som benytter software til produktdesign, konstruktion, pladebearbejdning og CNC-bearbejdning.',\n",
       "       '    Vikarvagt hos en dame på 70 år.    ',\n",
       "       '    Vikar vagt til 50 årig mand med ALS.    ',\n",
       "       '    Lolland Kommune opretter en COVID-19-jobbank til studerende, ledige og pensionerede inden for relevante fag.    '],\n",
       "      dtype=object)"
      ]
     },
     "execution_count": 79,
     "metadata": {},
     "output_type": "execute_result"
    }
   ],
   "source": [
    "# remove stop words\n",
    "from nltk.corpus import stopwords\n",
    "# stopwords.words('danish')\n",
    "\n",
    "all_descriptions = np.array(df_filtered['description'].dropna())\n",
    "\n",
    "print(all_descriptions.shape)\n",
    "all_descriptions"
   ]
  },
  {
   "cell_type": "code",
   "execution_count": 80,
   "metadata": {},
   "outputs": [],
   "source": [
    "# TF-IDF\n",
    "from sklearn.feature_extraction.text import TfidfVectorizer\n",
    "\n",
    "vectorizer = TfidfVectorizer()\n",
    "X = vectorizer.fit_transform(all_descriptions)"
   ]
  },
  {
   "cell_type": "code",
   "execution_count": 81,
   "metadata": {},
   "outputs": [
    {
     "name": "stdout",
     "output_type": "stream",
     "text": [
      "['19', '50', '70', 'af', 'als', 'alt', 'ansvarlig', 'arbejde', 'at', 'bearbejdning', 'benytter', 'blandt', 'både', 'cad', 'cam', 'cnc', 'covid', 'daglige', 'dame', 'danmark', 'de', 'dit', 'du', 'edge', 'egå', 'eksisterende', 'eller', 'en', 'er', 'fag', 'for', 'forhandling', 'fra', 'få', 'førende', 'god', 'hele', 'helhedsløsninger', 'henholdsvis', 'hos', 'implementerings', 'inden', 'jobbank', 'kommer', 'kommune', 'konstruktion', 'konsulenter', 'kontakten', 'kundekontakt', 'kunder', 'landet', 'ledige', 'lolland', 'løsninger', 'mand', 'med', 'odenseedge', 'og', 'opfølgning', 'opretter', 'orienterede', 'pensionerede', 'pladebearbejdning', 'pleje', 'potentielle', 'presales', 'produktdesign', 'produktionsvirksomheder', 'på', 'relevante', 'rådgivning', 'salg', 'salgsprocessen', 'samt', 'selvstændigt', 'serviceaftaler', 'skal', 'software', 'som', 'specialister', 'studerende', 'støtte', 'supportteamet', 'sælge', 'søger', 'team', 'teknisk', 'tekniske', 'til', 'udviklingshuse', 'udviklingsprojekter', 'vagt', 'varetage', 'vikar', 'vikarvagt', 'vil', 'virksomheder', 'vores', 'år', 'årig']\n"
     ]
    }
   ],
   "source": [
    "print(vectorizer.get_feature_names())"
   ]
  },
  {
   "cell_type": "code",
   "execution_count": 82,
   "metadata": {},
   "outputs": [
    {
     "name": "stdout",
     "output_type": "stream",
     "text": [
      "(4, 100)\n",
      "[[0.         0.         0.         0.07252595 0.         0.07252595\n",
      "  0.07252595 0.1450519  0.07252595 0.07252595 0.07252595 0.07252595\n",
      "  0.1450519  0.1450519  0.1450519  0.07252595 0.         0.07252595\n",
      "  0.         0.07252595 0.07252595 0.07252595 0.29010381 0.1450519\n",
      "  0.07252595 0.07252595 0.07252595 0.04629238 0.1450519  0.\n",
      "  0.11436059 0.07252595 0.1450519  0.07252595 0.07252595 0.07252595\n",
      "  0.1450519  0.07252595 0.07252595 0.         0.07252595 0.05718029\n",
      "  0.         0.07252595 0.         0.07252595 0.1450519  0.07252595\n",
      "  0.07252595 0.21757786 0.07252595 0.         0.         0.07252595\n",
      "  0.         0.05718029 0.07252595 0.40026206 0.07252595 0.\n",
      "  0.07252595 0.         0.07252595 0.07252595 0.07252595 0.07252595\n",
      "  0.07252595 0.07252595 0.         0.         0.07252595 0.07252595\n",
      "  0.07252595 0.1450519  0.07252595 0.07252595 0.1450519  0.1450519\n",
      "  0.1450519  0.07252595 0.         0.07252595 0.07252595 0.07252595\n",
      "  0.07252595 0.21757786 0.07252595 0.07252595 0.1851695  0.07252595\n",
      "  0.07252595 0.         0.07252595 0.         0.         0.07252595\n",
      "  0.07252595 0.21757786 0.         0.        ]\n",
      " [0.         0.         0.39505606 0.         0.         0.\n",
      "  0.         0.         0.         0.         0.         0.\n",
      "  0.         0.         0.         0.         0.         0.\n",
      "  0.39505606 0.         0.         0.         0.         0.\n",
      "  0.         0.         0.         0.25215917 0.         0.\n",
      "  0.         0.         0.         0.         0.         0.\n",
      "  0.         0.         0.         0.39505606 0.         0.\n",
      "  0.         0.         0.         0.         0.         0.\n",
      "  0.         0.         0.         0.         0.         0.\n",
      "  0.         0.         0.         0.         0.         0.\n",
      "  0.         0.         0.         0.         0.         0.\n",
      "  0.         0.         0.39505606 0.         0.         0.\n",
      "  0.         0.         0.         0.         0.         0.\n",
      "  0.         0.         0.         0.         0.         0.\n",
      "  0.         0.         0.         0.         0.         0.\n",
      "  0.         0.         0.         0.         0.39505606 0.\n",
      "  0.         0.         0.39505606 0.        ]\n",
      " [0.         0.37718389 0.         0.         0.37718389 0.\n",
      "  0.         0.         0.         0.         0.         0.\n",
      "  0.         0.         0.         0.         0.         0.\n",
      "  0.         0.         0.         0.         0.         0.\n",
      "  0.         0.         0.         0.         0.         0.\n",
      "  0.         0.         0.         0.         0.         0.\n",
      "  0.         0.         0.         0.         0.         0.\n",
      "  0.         0.         0.         0.         0.         0.\n",
      "  0.         0.         0.         0.         0.         0.\n",
      "  0.37718389 0.29737611 0.         0.         0.         0.\n",
      "  0.         0.         0.         0.         0.         0.\n",
      "  0.         0.         0.         0.         0.         0.\n",
      "  0.         0.         0.         0.         0.         0.\n",
      "  0.         0.         0.         0.         0.         0.\n",
      "  0.         0.         0.         0.         0.24075159 0.\n",
      "  0.         0.37718389 0.         0.37718389 0.         0.\n",
      "  0.         0.         0.         0.37718389]\n",
      " [0.270373   0.         0.         0.         0.         0.\n",
      "  0.         0.         0.         0.         0.         0.\n",
      "  0.         0.         0.         0.         0.270373   0.\n",
      "  0.         0.         0.         0.         0.         0.\n",
      "  0.         0.         0.         0.17257558 0.         0.270373\n",
      "  0.21316518 0.         0.         0.         0.         0.\n",
      "  0.         0.         0.         0.         0.         0.21316518\n",
      "  0.270373   0.         0.270373   0.         0.         0.\n",
      "  0.         0.         0.         0.270373   0.270373   0.\n",
      "  0.         0.         0.         0.21316518 0.         0.270373\n",
      "  0.         0.270373   0.         0.         0.         0.\n",
      "  0.         0.         0.         0.270373   0.         0.\n",
      "  0.         0.         0.         0.         0.         0.\n",
      "  0.         0.         0.270373   0.         0.         0.\n",
      "  0.         0.         0.         0.         0.17257558 0.\n",
      "  0.         0.         0.         0.         0.         0.\n",
      "  0.         0.         0.         0.        ]]\n"
     ]
    }
   ],
   "source": [
    "print(X.shape)\n",
    "print(X.toarray())"
   ]
  },
  {
   "cell_type": "code",
   "execution_count": 83,
   "metadata": {},
   "outputs": [
    {
     "data": {
      "text/plain": [
       "array([[1.        , 0.01167305, 0.06158391, 0.16183314],\n",
       "       [0.01167305, 1.        , 0.        , 0.04351652],\n",
       "       [0.06158391, 0.        , 1.        , 0.04154785],\n",
       "       [0.16183314, 0.04351652, 0.04154785, 1.        ]])"
      ]
     },
     "execution_count": 83,
     "metadata": {},
     "output_type": "execute_result"
    }
   ],
   "source": [
    "from sklearn.metrics.pairwise import linear_kernel\n",
    "similarity_matrix = linear_kernel(X,X)\n",
    "similarity_matrix"
   ]
  },
  {
   "cell_type": "code",
   "execution_count": 84,
   "metadata": {},
   "outputs": [
    {
     "data": {
      "text/plain": [
       "0.011673046897317962"
      ]
     },
     "execution_count": 84,
     "metadata": {},
     "output_type": "execute_result"
    }
   ],
   "source": [
    "similarity_matrix[0,1]"
   ]
  },
  {
   "cell_type": "code",
   "execution_count": 85,
   "metadata": {},
   "outputs": [
    {
     "data": {
      "text/plain": [
       "array([[1.        , 0.01167305, 0.06158391, 0.16183314],\n",
       "       [0.01167305, 1.        , 0.        , 0.04351652],\n",
       "       [0.06158391, 0.        , 1.        , 0.04154785],\n",
       "       [0.16183314, 0.04351652, 0.04154785, 1.        ]])"
      ]
     },
     "execution_count": 85,
     "metadata": {},
     "output_type": "execute_result"
    }
   ],
   "source": [
    "from sklearn.metrics.pairwise import cosine_similarity\n",
    "similarity_matrix2 = cosine_similarity(X)\n",
    "similarity_matrix2"
   ]
  },
  {
   "cell_type": "code",
   "execution_count": 88,
   "metadata": {},
   "outputs": [],
   "source": [
    "indices = pd.Series(df_filtered.index)\n",
    "score_series = pd.Series(similarity_matrix[1]).sort_values(ascending = False)"
   ]
  },
  {
   "cell_type": "code",
   "execution_count": 89,
   "metadata": {},
   "outputs": [
    {
     "data": {
      "text/plain": [
       "1    1.000000\n",
       "3    0.043517\n",
       "0    0.011673\n",
       "2    0.000000\n",
       "dtype: float64"
      ]
     },
     "execution_count": 89,
     "metadata": {},
     "output_type": "execute_result"
    }
   ],
   "source": [
    "score_series"
   ]
  },
  {
   "cell_type": "code",
   "execution_count": null,
   "metadata": {},
   "outputs": [],
   "source": []
  },
  {
   "cell_type": "code",
   "execution_count": 125,
   "metadata": {},
   "outputs": [],
   "source": []
  },
  {
   "cell_type": "code",
   "execution_count": null,
   "metadata": {},
   "outputs": [],
   "source": []
  }
 ],
 "metadata": {
  "kernelspec": {
   "display_name": "Python 3",
   "language": "python",
   "name": "python3"
  },
  "language_info": {
   "codemirror_mode": {
    "name": "ipython",
    "version": 3
   },
   "file_extension": ".py",
   "mimetype": "text/x-python",
   "name": "python",
   "nbconvert_exporter": "python",
   "pygments_lexer": "ipython3",
   "version": "3.8.5"
  }
 },
 "nbformat": 4,
 "nbformat_minor": 4
}
