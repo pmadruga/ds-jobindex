{
 "cells": [
  {
   "cell_type": "markdown",
   "metadata": {},
   "source": [
    "# Search Engine Results"
   ]
  },
  {
   "cell_type": "code",
   "execution_count": 35,
   "metadata": {},
   "outputs": [],
   "source": [
    "import os\n",
    "import pandas as pd\n",
    "from nltk.corpus import stopwords\n",
    "from nltk.stem.snowball import DanishStemmer\n",
    "from textblob import TextBlob\n",
    "import lemmy\n",
    "from sklearn.metrics import pairwise_kernels\n",
    "from sklearn.feature_extraction.text import TfidfVectorizer\n",
    "import numpy as np\n",
    "from sentence_transformers import SentenceTransformer, util\n",
    "import tensorflow as tf\n",
    "import torch\n",
    "\n",
    "embedder = SentenceTransformer('distilbert-multilingual-nli-stsb-quora-ranking')"
   ]
  },
  {
   "cell_type": "code",
   "execution_count": 36,
   "metadata": {},
   "outputs": [],
   "source": [
    "dataset_name = '2020-02-26_2020-03-26_nodups_9k'"
   ]
  },
  {
   "cell_type": "code",
   "execution_count": 37,
   "metadata": {},
   "outputs": [
    {
     "name": "stdout",
     "output_type": "stream",
     "text": [
      "Loading Processed Dataframe\n",
      "Loading TFIDF distances\n",
      "CPU times: user 1min 1s, sys: 3.24 s, total: 1min 5s\n",
      "Wall time: 1min 9s\n",
      "Loading BERT distances\n",
      "CPU times: user 1.49 ms, sys: 29.8 ms, total: 31.3 ms\n",
      "Wall time: 51.8 ms\n",
      "\n",
      " All datasets loaded.\n"
     ]
    }
   ],
   "source": [
    "base = os.path.abspath('../')\n",
    "\n",
    "def outname(name):\n",
    "    return os.path.basename(dataset_name).split('.')[0] + name\n",
    "    \n",
    "outname_tfidf = outname('_distances_tfidf.csv')\n",
    "outname_bert = outname('_encodings_bert.pt')\n",
    "outname_df = outname('_preprocessed_df.csv')\n",
    "\n",
    "print('Loading Processed Dataframe')\n",
    "df = pd.read_csv(f'{base}/data/processed/{outname_df}', index_col=0)\n",
    "\n",
    "print('Loading TFIDF distances')\n",
    "%time tfidf = pd.read_csv( f'{base}/data/processed/{outname_tfidf}', index_col=0)\n",
    "\n",
    "print('Loading BERT distances')\n",
    "## It is not in Tensor format, but rather numpy array\n",
    "# bert = pd.read_csv(f'{base}/data/processed/{outname_bert}', index_col=0)\n",
    "%time bert = torch.load(f'{base}/data/processed/{outname_bert}')\n",
    "\n",
    "print('\\n All datasets loaded.')"
   ]
  },
  {
   "cell_type": "code",
   "execution_count": 38,
   "metadata": {},
   "outputs": [],
   "source": [
    "tfidf = tfidf.reset_index()"
   ]
  },
  {
   "cell_type": "code",
   "execution_count": 39,
   "metadata": {},
   "outputs": [
    {
     "data": {
      "text/html": [
       "<div>\n",
       "<style scoped>\n",
       "    .dataframe tbody tr th:only-of-type {\n",
       "        vertical-align: middle;\n",
       "    }\n",
       "\n",
       "    .dataframe tbody tr th {\n",
       "        vertical-align: top;\n",
       "    }\n",
       "\n",
       "    .dataframe thead th {\n",
       "        text-align: right;\n",
       "    }\n",
       "</style>\n",
       "<table border=\"1\" class=\"dataframe\">\n",
       "  <thead>\n",
       "    <tr style=\"text-align: right;\">\n",
       "      <th></th>\n",
       "      <th>title</th>\n",
       "      <th>company</th>\n",
       "      <th>location</th>\n",
       "      <th>description</th>\n",
       "      <th>date</th>\n",
       "      <th>merged</th>\n",
       "      <th>corpus</th>\n",
       "      <th>title_processed</th>\n",
       "    </tr>\n",
       "  </thead>\n",
       "  <tbody>\n",
       "    <tr>\n",
       "      <th>0</th>\n",
       "      <td>'Rundt om psykiatrien'; Unik mulighed for syge...</td>\n",
       "      <td>Psykiatrisk Center Ballerup</td>\n",
       "      <td>Ballerup</td>\n",
       "      <td>Måske er du nyuddannet sygeplejerske, elle...</td>\n",
       "      <td>2020-03-02</td>\n",
       "      <td>'Rundt om psykiatrien'; Unik mulighed for syge...</td>\n",
       "      <td>'rund psykiatri unik mul sygeplejersk nysger p...</td>\n",
       "      <td>'rund psykiatri unik mul sygeplejersk nysger p...</td>\n",
       "    </tr>\n",
       "    <tr>\n",
       "      <th>1</th>\n",
       "      <td>(NY FRIST 23/3) Moos-Bjerre søger fire metodes...</td>\n",
       "      <td>Moos-Bjerre A/S</td>\n",
       "      <td>København</td>\n",
       "      <td>Moos-Bjerre søger i alt fire analytisk og ...</td>\n",
       "      <td>2020-03-03</td>\n",
       "      <td>(NY FRIST 23/3) Moos-Bjerre søger fire metodes...</td>\n",
       "      <td>ny frist 23/3 moos-bjer søg fir metodestærk pr...</td>\n",
       "      <td>ny frist 23/3 moos-bjer søg fir metodestærk pr...</td>\n",
       "    </tr>\n",
       "    <tr>\n",
       "      <th>2</th>\n",
       "      <td>(Senior) Numerical Specialist for design and i...</td>\n",
       "      <td>Ørsted Wind Power</td>\n",
       "      <td>Skærbæk near Fredericia or Gentofte</td>\n",
       "      <td>Ørsted Wind Power, Skærbæk near Fredericia or ...</td>\n",
       "      <td>2020-03-13</td>\n",
       "      <td>(Senior) Numerical Specialist for design and i...</td>\n",
       "      <td>senior numerical specialist design and impleme...</td>\n",
       "      <td>senior numerical specialist design and impleme...</td>\n",
       "    </tr>\n",
       "    <tr>\n",
       "      <th>3</th>\n",
       "      <td>(Sr) Recruiting Partner</td>\n",
       "      <td>Biogen</td>\n",
       "      <td>København</td>\n",
       "      <td>Drive the recruiting and hiring process; H...</td>\n",
       "      <td>2020-02-27</td>\n",
       "      <td>(Sr) Recruiting Partner Biogen København     D...</td>\n",
       "      <td>sr recruiting partn biog københavn driv the re...</td>\n",
       "      <td>sr recruiting partne</td>\n",
       "    </tr>\n",
       "    <tr>\n",
       "      <th>4</th>\n",
       "      <td>.NET Developer, Technical Consultant</td>\n",
       "      <td>Norriq Danmark A/S</td>\n",
       "      <td>Brøndby</td>\n",
       "      <td>Vores e-handelsteam udvider i både Aalborg...</td>\n",
       "      <td>2020-03-09</td>\n",
       "      <td>.NET Developer, Technical Consultant Norriq Da...</td>\n",
       "      <td>net develop technical consultant norriq danmar...</td>\n",
       "      <td>net develop technical consultant</td>\n",
       "    </tr>\n",
       "  </tbody>\n",
       "</table>\n",
       "</div>"
      ],
      "text/plain": [
       "                                               title  \\\n",
       "0  'Rundt om psykiatrien'; Unik mulighed for syge...   \n",
       "1  (NY FRIST 23/3) Moos-Bjerre søger fire metodes...   \n",
       "2  (Senior) Numerical Specialist for design and i...   \n",
       "3                            (Sr) Recruiting Partner   \n",
       "4               .NET Developer, Technical Consultant   \n",
       "\n",
       "                       company                             location  \\\n",
       "0  Psykiatrisk Center Ballerup                             Ballerup   \n",
       "1              Moos-Bjerre A/S                            København   \n",
       "2            Ørsted Wind Power  Skærbæk near Fredericia or Gentofte   \n",
       "3                       Biogen                            København   \n",
       "4           Norriq Danmark A/S                              Brøndby   \n",
       "\n",
       "                                         description        date  \\\n",
       "0      Måske er du nyuddannet sygeplejerske, elle...  2020-03-02   \n",
       "1      Moos-Bjerre søger i alt fire analytisk og ...  2020-03-03   \n",
       "2  Ørsted Wind Power, Skærbæk near Fredericia or ...  2020-03-13   \n",
       "3      Drive the recruiting and hiring process; H...  2020-02-27   \n",
       "4      Vores e-handelsteam udvider i både Aalborg...  2020-03-09   \n",
       "\n",
       "                                              merged  \\\n",
       "0  'Rundt om psykiatrien'; Unik mulighed for syge...   \n",
       "1  (NY FRIST 23/3) Moos-Bjerre søger fire metodes...   \n",
       "2  (Senior) Numerical Specialist for design and i...   \n",
       "3  (Sr) Recruiting Partner Biogen København     D...   \n",
       "4  .NET Developer, Technical Consultant Norriq Da...   \n",
       "\n",
       "                                              corpus  \\\n",
       "0  'rund psykiatri unik mul sygeplejersk nysger p...   \n",
       "1  ny frist 23/3 moos-bjer søg fir metodestærk pr...   \n",
       "2  senior numerical specialist design and impleme...   \n",
       "3  sr recruiting partn biog københavn driv the re...   \n",
       "4  net develop technical consultant norriq danmar...   \n",
       "\n",
       "                                     title_processed  \n",
       "0  'rund psykiatri unik mul sygeplejersk nysger p...  \n",
       "1  ny frist 23/3 moos-bjer søg fir metodestærk pr...  \n",
       "2  senior numerical specialist design and impleme...  \n",
       "3                               sr recruiting partne  \n",
       "4                   net develop technical consultant  "
      ]
     },
     "execution_count": 39,
     "metadata": {},
     "output_type": "execute_result"
    }
   ],
   "source": [
    "## notice the corpus and title_processed\n",
    "df.head(5)"
   ]
  },
  {
   "cell_type": "code",
   "execution_count": 40,
   "metadata": {},
   "outputs": [],
   "source": [
    "def preprocess_text(text):\n",
    "    # text = re.sub(r'[^\\w\\s]', '', str(text).lower().strip())\n",
    "    text = str(text).lower().strip()\n",
    "\n",
    "    # caveat: this might conflict with the english text\n",
    "    da_stop_words = stopwords.words('danish')\n",
    "    stemmer = DanishStemmer()\n",
    "    lemmatizer = lemmy.load(\"da\")\n",
    "\n",
    "    # remove plurals\n",
    "    textblob = TextBlob(text)\n",
    "    singles = [stemmer.stem(word) for word in textblob.words]\n",
    "\n",
    "    # remove danish stopwords\n",
    "    no_stop_words = [word for word in singles if word not in da_stop_words]\n",
    "\n",
    "    # join text so it can be lemmatized\n",
    "    joined_text = \" \".join(no_stop_words)\n",
    "\n",
    "    # lemmatization\n",
    "    final_text = lemmatizer.lemmatize(\"\", joined_text)\n",
    "\n",
    "    return final_text[0]"
   ]
  },
  {
   "cell_type": "markdown",
   "metadata": {},
   "source": [
    "## SEARCH QUERY\n",
    "---"
   ]
  },
  {
   "cell_type": "code",
   "execution_count": 58,
   "metadata": {},
   "outputs": [],
   "source": [
    "search_query = 'Neurorehabilitering'\n",
    "# search query - pædagog skov # Bert is best, but not great overall\n",
    "# search_query = 'køkken i København' # slighly better than Jobindex\n",
    "# search_query = 'læge neuropædiatri' # BERT exceeds\n",
    "k = 20"
   ]
  },
  {
   "cell_type": "markdown",
   "metadata": {},
   "source": [
    "## Direct custom search results"
   ]
  },
  {
   "cell_type": "code",
   "execution_count": 59,
   "metadata": {},
   "outputs": [
    {
     "name": "stdout",
     "output_type": "stream",
     "text": [
      "DIRECT RESULTS: 18 \n",
      "\n",
      "7777 - Social- og sundhedsassistent til aftenvagt på Ringstedhave Neurorehabiliteringscenter\n",
      "5317 - Neuropsykolog til Klinik for Højt Specialiseret Neurorehabilitering/Traumatisk Hjerneskade\n",
      "5319 - Neuropsykologer til Neurorehabilitering - Kbh\n",
      "9688 - Vikar for Sygeplejerske til S13, Neurorehabilitering, Regionshospitalet Skive, Hammel Neurocenter\n",
      "8617 - Sygeplejerske søges til Center for Neurorehabilitering Næstved\n",
      "8622 - Sygeplejerske søges til Neurorehabiliteringen, Svendborg\n",
      "8623 - Sygeplejerske søges til Neurorehabiliteringen, Svendborg\n",
      "7760 - Social- og sundhedsassistent til Neurorehabiliteringen i Grindsted\n",
      "7761 - Social- og sundhedsassistent til Neurorehabiliteringen i Grindsted\n",
      "2867 - Fysioterapeut til neurorehabilitering\n",
      "2359 - Ergoterapeut , Afsnit for Neurorehabilitering, Frederikssund\n",
      "1334 - Center for Neurorehabilitering(CfN) - Filadelfia søger SSA til aftenvagt\n",
      "86 - 2 sygeplejersker søges til Neurorehabiliteringen i Grindsted\n",
      "87 - 2 sygeplejersker søges til Neurorehabiliteringen i Grindsted\n",
      "9689 - Vikar for Sygeplejerske til S13, Neurorehabilitering, Regionshospitalet Skive, Hammel Neurocenter\n",
      "349 - Afdelingslæge søges til neurorehabilitering ved Regionshospitalet Hammel Neurocenter, Hospitalsenhed Midt\n",
      "350 - Afdelingslæge søges til neurorehabilitering ved Regionshospitalet Hammel Neurocenter, Hospitalsenhed Midt.\n",
      "9535 - Vagtplanlægger/koordinator til Ringstedhave Neurorehabiliteringscenter - gerne social- og sundhedsassistent\n"
     ]
    }
   ],
   "source": [
    "def find_direct_results(search_query):\n",
    "    matching_entries = [df['title_processed'].index[df['title_processed'].str.contains(word, case=False)]\n",
    "                        .values for word in search_query.split()]\n",
    "    return list(set(matching_entries[0]).intersection(*matching_entries))\n",
    "\n",
    "def print_direct_search_results(direct_results):\n",
    "    agg_direct_results_indexes = []\n",
    "    print('DIRECT RESULTS:', len(direct_results), '\\n')\n",
    "    for index, result in enumerate(direct_results):\n",
    "        print(result, '-',  df['title'][result])\n",
    "        agg_direct_results_indexes.append(result)\n",
    "#     return agg_direct_results_indexes\n",
    "\n",
    "direct_results = find_direct_results(preprocess_text(search_query))\n",
    "print_direct_search_results(direct_results)"
   ]
  },
  {
   "cell_type": "markdown",
   "metadata": {},
   "source": [
    "## TFIDF: Baseline model"
   ]
  },
  {
   "cell_type": "code",
   "execution_count": 60,
   "metadata": {},
   "outputs": [
    {
     "name": "stdout",
     "output_type": "stream",
     "text": [
      "TFIDF\n",
      "\n",
      "Medarbejder til Center for Social Rehabilitering\n",
      "Social- og sundhedsassistenter til aften- og nattevagt\n",
      "Fysioterapeut til Rehabiliterings- og Plejecenter Skovbo\n",
      "Social- og sundhedsassistent til fast aftenvagt i Ishøj Hjemmesygepleje\n",
      "Medarbejder til Center for Social Rehabilitering\n",
      "Social- og sundhedsassistenter til Bjerggårdshavens midlertidige døgnrehabilitering\n",
      "Social- og sundhedsassistent til Center for Rehabilitering og Akutpleje\n",
      "Social- og sundhedsassistent til fast aftenvagt\n",
      "Social- og sundhedsassistent til Center for Rehabilitering og Akutpleje\n",
      "Social- og sundhedsassistent i aftenvagt til Højdevang Sogns Plejehjem i Valby\n",
      "Social- og Sundhedsassistent søges til dagvagt på Bakkehuset\n",
      "Social- og sundhedsassistent til fast aftenvagt\n",
      "Specialiseret børnerådgiver til ny Familieenhed i Veterancentret i Ringsted (genopslag)\n",
      "Social- og sundhedsassistent i fast aftenvagt\n",
      "9 centerterapeuter til rehabilitering på plejecentre\n",
      "Social- og sundhedsassistent til aftenvagt på Margrethegården Team Mix\n",
      "Bengerds Huse søger en engageret og ambitiøs sygeplejerske 7 timer om ugen\n",
      "SSH og SSA til fast aftenvagt\n",
      "Er du vores nye pædagog vikar?\n",
      "Social- og sundhedsassistent til blandede dag- og aftenvagter på Margrethegården Team Mix\n",
      "CPU times: user 2.7 s, sys: 47.6 ms, total: 2.74 s\n",
      "Wall time: 2.77 s\n"
     ]
    }
   ],
   "source": [
    "%%time\n",
    "\n",
    "def recommendations(data, results):\n",
    "    sorted_results = []\n",
    "    recommendation_indexes = []\n",
    "    for result in results:\n",
    "        sorted_distances = data[str(result)].sort_values().iteritems()\n",
    "        \n",
    "        for item_index, item_value in enumerate(sorted_distances):\n",
    "            index, distance = item_value\n",
    "            sorted_results.append({\n",
    "                'item_index': index,\n",
    "                'distance': distance,\n",
    "                'title': df['title'][index]\n",
    "            })\n",
    "            \n",
    "    agg_sorted_indexes = [x['item_index'] for x in sorted_results]\n",
    "    ## removing direct_results for all results\n",
    "    recommendation_indexes = [x for x in agg_sorted_indexes if x not in results]\n",
    "        \n",
    "    return recommendation_indexes\n",
    "\n",
    "def display_results(data, name, direct_results):\n",
    "    print (f'{name}\\n')\n",
    "    for index, recommendation in enumerate(recommendations(data=data, results=direct_results)[:k]):\n",
    "        print(df['title'][recommendation])\n",
    "\n",
    "def get_tfidf_recommendations(query):\n",
    "    if len(direct_results) == 0:\n",
    "        return None\n",
    "    display_results(data=tfidf, name='TFIDF', direct_results=direct_results)\n",
    "\n",
    "get_tfidf_recommendations(query=search_query)"
   ]
  },
  {
   "cell_type": "markdown",
   "metadata": {},
   "source": [
    "# BERT"
   ]
  },
  {
   "cell_type": "code",
   "execution_count": 61,
   "metadata": {},
   "outputs": [
    {
     "name": "stdout",
     "output_type": "stream",
     "text": [
      "BERT\n",
      "\n",
      "neuropsykolog - Aarhus N\n",
      "Overlæge i neuropædiatri - Aarhus N\n",
      "Neurologisk fysioterapeut - barselsvikariat - Slangerup\n",
      "Økonom til Neurocentrets centerledelse - København Ø\n",
      "Reservelæge, Neurologi - Hillerød\n",
      "Barselsvikariat Fysioterapeut Neuroteam - Brønderslev\n",
      "Faglig velfunderet fysioterapeut søges til neurologisk team - Nykøbing M\n",
      "Udviklingskonsulent til Specialområde Hjerneskade - Viby J\n",
      "Erfaren neuropsykolog søges ved Neurologi, Aarhus Universitetshospital - Aarhus N\n",
      "Lægesekretær til Neurokirurgisk Afdeling - Odense C\n",
      "Lægesekretær til Neurokirurgisk Afdeling - Odense\n",
      "Kunne du tænke dig at medvirke til udvikling af vores epilepsifunktion? - København Ø\n",
      "Speciallæge til Kognitiv Indslusning og Stabiliserings Afsnit afdeling M, Psykiatrisk Center Sct. Hans - Roskilde\n",
      "Spændende stilling som ergoterapeut på botilbud til borgere med erhvervet hjerneskade. - Mørke\n",
      "CPU times: user 664 ms, sys: 20.5 ms, total: 685 ms\n",
      "Wall time: 687 ms\n"
     ]
    }
   ],
   "source": [
    "%%time \n",
    "embedded_query = embedder.encode(search_query, convert_to_tensor=True)\n",
    "sims = util.pytorch_cos_sim(embedded_query, bert)[0]\n",
    "\n",
    "results = sorted(range(len(sims)), key=lambda x: sims[x], reverse=True)[:k]\n",
    "## removing direct_results for all results\n",
    "filtered_results = [x for x in results if x not in direct_results]\n",
    "\n",
    "\n",
    "print (f'BERT\\n')\n",
    "for recommendation in filtered_results:\n",
    "    print(df['title'][recommendation], '-', df['location'][recommendation]) "
   ]
  },
  {
   "cell_type": "markdown",
   "metadata": {},
   "source": [
    "# BERT: Bigger sized dataset\n",
    "---"
   ]
  },
  {
   "cell_type": "code",
   "execution_count": null,
   "metadata": {},
   "outputs": [],
   "source": []
  }
 ],
 "metadata": {
  "kernelspec": {
   "display_name": "Python 3",
   "language": "python",
   "name": "python3"
  },
  "language_info": {
   "codemirror_mode": {
    "name": "ipython",
    "version": 3
   },
   "file_extension": ".py",
   "mimetype": "text/x-python",
   "name": "python",
   "nbconvert_exporter": "python",
   "pygments_lexer": "ipython3",
   "version": "3.8.3"
  }
 },
 "nbformat": 4,
 "nbformat_minor": 4
}
